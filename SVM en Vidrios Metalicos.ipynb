{
 "cells": [
  {
   "cell_type": "markdown",
   "id": "43ee025b",
   "metadata": {},
   "source": [
    "## Librerías"
   ]
  },
  {
   "cell_type": "code",
   "execution_count": 1,
   "id": "060d5395",
   "metadata": {},
   "outputs": [
    {
     "ename": "ModuleNotFoundError",
     "evalue": "No module named 'mlxtend'",
     "output_type": "error",
     "traceback": [
      "\u001b[0;31m---------------------------------------------------------------------------\u001b[0m",
      "\u001b[0;31mModuleNotFoundError\u001b[0m                       Traceback (most recent call last)",
      "Input \u001b[0;32mIn [1]\u001b[0m, in \u001b[0;36m<cell line: 11>\u001b[0;34m()\u001b[0m\n\u001b[1;32m      9\u001b[0m \u001b[38;5;28;01mfrom\u001b[39;00m \u001b[38;5;21;01mmatplotlib\u001b[39;00m \u001b[38;5;28;01mimport\u001b[39;00m style\n\u001b[1;32m     10\u001b[0m \u001b[38;5;28;01mimport\u001b[39;00m \u001b[38;5;21;01mseaborn\u001b[39;00m \u001b[38;5;28;01mas\u001b[39;00m \u001b[38;5;21;01msns\u001b[39;00m\n\u001b[0;32m---> 11\u001b[0m \u001b[38;5;28;01mfrom\u001b[39;00m \u001b[38;5;21;01mmlxtend\u001b[39;00m\u001b[38;5;21;01m.\u001b[39;00m\u001b[38;5;21;01mplotting\u001b[39;00m \u001b[38;5;28;01mimport\u001b[39;00m plot_decision_regions\n\u001b[1;32m     13\u001b[0m \u001b[38;5;66;03m# Preprocesado y modelado\u001b[39;00m\n\u001b[1;32m     14\u001b[0m \u001b[38;5;66;03m# ==============================================================================\u001b[39;00m\n\u001b[1;32m     15\u001b[0m \u001b[38;5;28;01mfrom\u001b[39;00m \u001b[38;5;21;01msklearn\u001b[39;00m\u001b[38;5;21;01m.\u001b[39;00m\u001b[38;5;21;01msvm\u001b[39;00m \u001b[38;5;28;01mimport\u001b[39;00m SVC\n",
      "\u001b[0;31mModuleNotFoundError\u001b[0m: No module named 'mlxtend'"
     ]
    }
   ],
   "source": [
    "# Tratamiento de datos\n",
    "# ==============================================================================\n",
    "import pandas as pd\n",
    "import numpy as np\n",
    "\n",
    "# Gráficos\n",
    "# ==============================================================================\n",
    "import matplotlib.pyplot as plt\n",
    "from matplotlib import style\n",
    "import seaborn as sns\n",
    "from mlxtend.plotting import plot_decision_regions\n",
    "\n",
    "# Preprocesado y modelado\n",
    "# ==============================================================================\n",
    "from sklearn.svm import SVC\n",
    "from sklearn.svm import SVR\n",
    "from sklearn.model_selection import train_test_split\n",
    "from sklearn.model_selection import GridSearchCV\n",
    "from sklearn.metrics import accuracy_score\n",
    "from sklearn.metrics import f1_score\n",
    "from sklearn.metrics import mean_squared_error\n",
    "\n",
    "# Configuración matplotlib\n",
    "# ==============================================================================\n",
    "plt.rcParams['image.cmap'] = \"bwr\"\n",
    "#plt.rcParams['figure.dpi'] = \"100\"\n",
    "plt.rcParams['savefig.bbox'] = \"tight\"\n",
    "style.use('ggplot') or plt.style.use('ggplot')\n",
    "\n",
    "# Configuración warnings\n",
    "# ==============================================================================\n",
    "import warnings\n",
    "warnings.filterwarnings('ignore')\n",
    "\n"
   ]
  },
  {
   "cell_type": "code",
   "execution_count": null,
   "id": "d61623bf",
   "metadata": {},
   "outputs": [],
   "source": [
    "#Carga de Datos\n",
    "df = pd.read_csv('Data Nueva.csv',sep=',', skiprows=1, names=['N_Caso', \n",
    "                                                              'Cu', \n",
    "                                                              'Zr', \n",
    "                                                              'NAtomos', \n",
    "                                                              'Lx', \n",
    "                                                              'Ly', \n",
    "                                                              'Lz', \n",
    "                                                              'Crate', \n",
    "                                                              'T', \n",
    "                                                              'UTS', \n",
    "                                                              'Flow_Stress',\n",
    "                                                              'E',\n",
    "                                                              'Yield_strength',\n",
    "                                                              'Resilence',\n",
    "                                                              'Toughness',\n",
    "                                                              'Poissonratio',\n",
    "                                                              'Coord_1st',\n",
    "                                                              'Coord_2nd',\n",
    "                                                              'W_mean'\n",
    "                                                              \n",
    "                                                             ])\n",
    "df.head(10)\n"
   ]
  },
  {
   "cell_type": "code",
   "execution_count": null,
   "id": "fc8fbf44",
   "metadata": {},
   "outputs": [],
   "source": [
    "#Creo una copia de seguridad y borro indice.\n",
    "Data = df\n",
    "Data = Data.drop(columns=['N_Caso'])\n",
    "Data.head()"
   ]
  },
  {
   "cell_type": "code",
   "execution_count": null,
   "id": "2b00ae6b",
   "metadata": {},
   "outputs": [],
   "source": [
    "df = Data[['Cu',\n",
    "         'Zr',\n",
    "         'T',\n",
    "         'E',\n",
    "         'Yield_strength',\n",
    "         'Resilence',\n",
    "         'Coord_1st',\n",
    "         'W_mean',\n",
    "         'UTS',\n",
    "         'Flow_Stress',\n",
    "         'Toughness',\n",
    "             ]]\n",
    "\n",
    "df"
   ]
  },
  {
   "cell_type": "code",
   "execution_count": null,
   "id": "909e48b5",
   "metadata": {},
   "outputs": [],
   "source": [
    "# Particionado del conjunto de datos\n",
    "\n",
    "train_set, test_set = train_test_split(df,test_size = 0.3, random_state= 42,shuffle=False)"
   ]
  },
  {
   "cell_type": "code",
   "execution_count": null,
   "id": "41baf032",
   "metadata": {},
   "outputs": [],
   "source": [
    "train_set"
   ]
  },
  {
   "cell_type": "code",
   "execution_count": null,
   "id": "7522e95e",
   "metadata": {},
   "outputs": [],
   "source": [
    "variables_dependientes = [\"UTS\",\"Flow_Stress\",\"Toughness\"]\n",
    "for variable_y in variables_dependientes:\n",
    "    print(\"\\nResultados usando variable dependiente:\", variable_y)\n",
    "    # Conjunto de datos de entrenamiento\n",
    "    X_train = train_set[[\"Cu\",\"Zr\",\"T\",\"E\",\"Yield_strength\",\"Resilence\",\"Coord_1st\",\"W_mean\"]].copy()\n",
    "    y_train = train_set[variable_y].copy()\n",
    "\n",
    "    # Conjunto de datos de pruebas\n",
    "    X_test = test_set [[\"Cu\",\"Zr\",\"T\",\"E\",\"Yield_strength\",\"Resilence\",\"Coord_1st\",\"W_mean\"]].copy()\n",
    "    y_test = test_set[variable_y].copy()\n",
    "    \n",
    "    #Se llama a la funcion SVR\n",
    "    svr = SVR(kernel=\"rbf\", C = 0.1)\n",
    "    svr.fit(X_train,y_train)\n",
    "    \n",
    "    y_pred = svr.predict(X_test)\n",
    "    \n",
    "    score = svr.score(X_train,y_train)\n",
    "    print(\"R-squared:\", score)\n",
    "  "
   ]
  },
  {
   "cell_type": "code",
   "execution_count": null,
   "id": "a7df3ee1",
   "metadata": {},
   "outputs": [],
   "source": []
  }
 ],
 "metadata": {
  "kernelspec": {
   "display_name": "Python 3 (ipykernel)",
   "language": "python",
   "name": "python3"
  },
  "language_info": {
   "codemirror_mode": {
    "name": "ipython",
    "version": 3
   },
   "file_extension": ".py",
   "mimetype": "text/x-python",
   "name": "python",
   "nbconvert_exporter": "python",
   "pygments_lexer": "ipython3",
   "version": "3.10.6"
  }
 },
 "nbformat": 4,
 "nbformat_minor": 5
}
